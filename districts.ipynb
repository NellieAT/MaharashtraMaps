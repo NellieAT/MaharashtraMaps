{
 "cells": [
  {
   "cell_type": "code",
   "execution_count": 1,
   "id": "7cfa64b1",
   "metadata": {},
   "outputs": [
    {
     "name": "stderr",
     "output_type": "stream",
     "text": [
      "C:\\Users\\Nell\\anaconda3\\envs\\ese-msc\\lib\\site-packages\\geopandas\\_compat.py:111: UserWarning: The Shapely GEOS version (3.9.1dev-CAPI-1.14.1) is incompatible with the GEOS version PyGEOS was compiled with (3.9.1-CAPI-1.14.2). Conversions between both will be slow.\n",
      "  warnings.warn(\n"
     ]
    }
   ],
   "source": [
    "import pandas as pd\n",
    "import numpy as np\n",
    "import matplotlib.pyplot as plt\n",
    "import geopandas as gpd\n",
    "from pathlib import Path"
   ]
  },
  {
   "cell_type": "code",
   "execution_count": 5,
   "id": "d67ed762",
   "metadata": {},
   "outputs": [
    {
     "data": {
      "text/html": [
       "<div>\n",
       "<style scoped>\n",
       "    .dataframe tbody tr th:only-of-type {\n",
       "        vertical-align: middle;\n",
       "    }\n",
       "\n",
       "    .dataframe tbody tr th {\n",
       "        vertical-align: top;\n",
       "    }\n",
       "\n",
       "    .dataframe thead th {\n",
       "        text-align: right;\n",
       "    }\n",
       "</style>\n",
       "<table border=\"1\" class=\"dataframe\">\n",
       "  <thead>\n",
       "    <tr style=\"text-align: right;\">\n",
       "      <th></th>\n",
       "      <th>fid</th>\n",
       "      <th>nam</th>\n",
       "      <th>laa</th>\n",
       "      <th>geometry</th>\n",
       "    </tr>\n",
       "  </thead>\n",
       "  <tbody>\n",
       "    <tr>\n",
       "      <th>0</th>\n",
       "      <td>1.0</td>\n",
       "      <td>MAHARASHTRA</td>\n",
       "      <td>NANDURBAR</td>\n",
       "      <td>POLYGON Z ((74.14090 21.95300 0.00000, 74.1419...</td>\n",
       "    </tr>\n",
       "    <tr>\n",
       "      <th>1</th>\n",
       "      <td>2.0</td>\n",
       "      <td>MAHARASHTRA</td>\n",
       "      <td>DHULE</td>\n",
       "      <td>POLYGON Z ((74.86766 21.62875 0.00000, 74.8687...</td>\n",
       "    </tr>\n",
       "    <tr>\n",
       "      <th>2</th>\n",
       "      <td>3.0</td>\n",
       "      <td>MAHARASHTRA</td>\n",
       "      <td>NASHIK</td>\n",
       "      <td>POLYGON Z ((74.13781 20.85971 0.00000, 74.1439...</td>\n",
       "    </tr>\n",
       "    <tr>\n",
       "      <th>3</th>\n",
       "      <td>4.0</td>\n",
       "      <td>MAHARASHTRA</td>\n",
       "      <td>JALGAON</td>\n",
       "      <td>POLYGON Z ((75.24092 21.41340 0.00000, 75.2451...</td>\n",
       "    </tr>\n",
       "    <tr>\n",
       "      <th>4</th>\n",
       "      <td>5.0</td>\n",
       "      <td>MAHARASHTRA</td>\n",
       "      <td>AURANGABAD</td>\n",
       "      <td>POLYGON Z ((75.70490 20.66223 0.00000, 75.7020...</td>\n",
       "    </tr>\n",
       "  </tbody>\n",
       "</table>\n",
       "</div>"
      ],
      "text/plain": [
       "   fid          nam         laa  \\\n",
       "0  1.0  MAHARASHTRA   NANDURBAR   \n",
       "1  2.0  MAHARASHTRA       DHULE   \n",
       "2  3.0  MAHARASHTRA      NASHIK   \n",
       "3  4.0  MAHARASHTRA     JALGAON   \n",
       "4  5.0  MAHARASHTRA  AURANGABAD   \n",
       "\n",
       "                                            geometry  \n",
       "0  POLYGON Z ((74.14090 21.95300 0.00000, 74.1419...  \n",
       "1  POLYGON Z ((74.86766 21.62875 0.00000, 74.8687...  \n",
       "2  POLYGON Z ((74.13781 20.85971 0.00000, 74.1439...  \n",
       "3  POLYGON Z ((75.24092 21.41340 0.00000, 75.2451...  \n",
       "4  POLYGON Z ((75.70490 20.66223 0.00000, 75.7020...  "
      ]
     },
     "execution_count": 5,
     "metadata": {},
     "output_type": "execute_result"
    }
   ],
   "source": [
    "file_path = Path('district_data/new_maha_district.shp')\n",
    "df = gpd.read_file(file_path)\n",
    "df.head()"
   ]
  },
  {
   "cell_type": "code",
   "execution_count": 7,
   "id": "72162837",
   "metadata": {},
   "outputs": [
    {
     "data": {
      "text/plain": [
       "<AxesSubplot:>"
      ]
     },
     "execution_count": 7,
     "metadata": {},
     "output_type": "execute_result"
    },
    {
     "data": {
      "image/png": "[encoded data removed]",
      "text/plain": [
       "<Figure size 432x288 with 1 Axes>"
      ]
     },
     "metadata": {
      "needs_background": "light"
     },
     "output_type": "display_data"
    }
   ],
   "source": [
    "df.plot()"
   ]
  },
  {
   "cell_type": "code",
   "execution_count": 12,
   "id": "4f3e2dca",
   "metadata": {},
   "outputs": [],
   "source": [
    "maha_districts = df.drop_duplicates(subset=['laa']).reset_index(drop = True)"
   ]
  },
  {
   "cell_type": "code",
   "execution_count": 13,
   "id": "ce4d111d",
   "metadata": {},
   "outputs": [
    {
     "name": "stdout",
     "output_type": "stream",
     "text": [
      "     fid          nam              laa  \\\n",
      "0    1.0  MAHARASHTRA        NANDURBAR   \n",
      "1    2.0  MAHARASHTRA            DHULE   \n",
      "2    3.0  MAHARASHTRA           NASHIK   \n",
      "3    4.0  MAHARASHTRA          JALGAON   \n",
      "4    5.0  MAHARASHTRA       AURANGABAD   \n",
      "5    6.0  MAHARASHTRA            THANE   \n",
      "6    7.0  MAHARASHTRA         AMRAVATI   \n",
      "7    8.0  MAHARASHTRA           NAGPUR   \n",
      "8    9.0  MAHARASHTRA          GONDIYA   \n",
      "9   10.0  MAHARASHTRA         BHANDARA   \n",
      "10  11.0  MAHARASHTRA          BULDANA   \n",
      "11  12.0  MAHARASHTRA            AKOLA   \n",
      "12  13.0  MAHARASHTRA           WARDHA   \n",
      "13  14.0  MAHARASHTRA      GARHCHIROLI   \n",
      "14  15.0  MAHARASHTRA       CHANDRAPUR   \n",
      "15  16.0  MAHARASHTRA            JALNA   \n",
      "16  17.0  MAHARASHTRA         YAVATMAL   \n",
      "17  18.0  MAHARASHTRA          HINGOLI   \n",
      "18  28.0  MAHARASHTRA  MUMBAI SUBURBAN   \n",
      "19  37.0  MAHARASHTRA             PUNE   \n",
      "20  40.0  MAHARASHTRA      MUMBAI CITY   \n",
      "21  41.0  MAHARASHTRA           RAYGAD   \n",
      "22  46.0  MAHARASHTRA              BID   \n",
      "23  47.0  MAHARASHTRA           SATARA   \n",
      "24  48.0  MAHARASHTRA        RATNAGIRI   \n",
      "25  49.0  MAHARASHTRA           SANGLI   \n",
      "26  50.0  MAHARASHTRA          SOLAPUR   \n",
      "27  51.0  MAHARASHTRA         KOLHAPUR   \n",
      "28  52.0  MAHARASHTRA       SINDHUDURG   \n",
      "29  56.0  MAHARASHTRA           WASHIM   \n",
      "30  57.0  MAHARASHTRA           NANDED   \n",
      "31  58.0  MAHARASHTRA         PARBHANI   \n",
      "32  59.0  MAHARASHTRA            LATUR   \n",
      "33  60.0  MAHARASHTRA       AHMADNAGAR   \n",
      "34  61.0  MAHARASHTRA        OSMANABAD   \n",
      "\n",
      "                                             geometry  \n",
      "0   POLYGON Z ((74.14090 21.95300 0.00000, 74.1419...  \n",
      "1   POLYGON Z ((74.86766 21.62875 0.00000, 74.8687...  \n",
      "2   POLYGON Z ((74.13781 20.85971 0.00000, 74.1439...  \n",
      "3   POLYGON Z ((75.24092 21.41340 0.00000, 75.2451...  \n",
      "4   POLYGON Z ((75.70490 20.66223 0.00000, 75.7020...  \n",
      "5   POLYGON Z ((72.87705 20.22712 0.00000, 72.8882...  \n",
      "6   POLYGON Z ((77.03578 21.69864 0.00000, 77.0610...  \n",
      "7   POLYGON Z ((79.51044 21.59004 0.00000, 79.5152...  \n",
      "8   POLYGON Z ((80.21713 21.62460 0.00000, 80.2197...  \n",
      "9   POLYGON Z ((79.74971 21.59785 0.00000, 79.7736...  \n",
      "10  POLYGON Z ((76.72298 21.28971 0.00000, 76.7290...  \n",
      "11  POLYGON Z ((76.78265 21.18962 0.00000, 76.7877...  \n",
      "12  POLYGON Z ((78.27824 20.69709 0.00000, 78.2801...  \n",
      "13  POLYGON Z ((80.56119 20.82169 0.00000, 80.5560...  \n",
      "14  POLYGON Z ((79.80141 20.68493 0.00000, 79.8269...  \n",
      "15  POLYGON Z ((76.02523 20.64448 0.00000, 76.0318...  \n",
      "16  POLYGON Z ((78.27604 20.68858 0.00000, 78.2669...  \n",
      "17  POLYGON Z ((77.01182 20.00536 0.00000, 77.0140...  \n",
      "18  POLYGON Z ((72.85566 19.26996 0.00000, 72.8557...  \n",
      "19  POLYGON Z ((73.85646 19.35957 0.00000, 73.8619...  \n",
      "20  POLYGON Z ((72.86205 19.05452 0.00000, 72.8628...  \n",
      "21  POLYGON Z ((73.03268 19.00477 0.00000, 73.0343...  \n",
      "22  POLYGON Z ((75.55965 19.38550 0.00000, 75.5684...  \n",
      "23  POLYGON Z ((73.65789 18.02930 0.00000, 73.6638...  \n",
      "24  POLYGON Z ((73.12645 18.00244 0.00000, 73.1281...  \n",
      "25  POLYGON Z ((74.91184 17.61906 0.00000, 74.9153...  \n",
      "26  POLYGON Z ((75.22680 18.54416 0.00000, 75.2306...  \n",
      "27  POLYGON Z ((73.70859 17.17060 0.00000, 73.7125...  \n",
      "28  POLYGON Z ((73.78263 16.66072 0.00000, 73.7873...  \n",
      "29  POLYGON Z ((77.61594 20.75926 0.00000, 77.6194...  \n",
      "30  POLYGON Z ((78.05761 19.91883 0.00000, 78.0619...  \n",
      "31  POLYGON Z ((76.64586 19.86636 0.00000, 76.6468...  \n",
      "32  POLYGON Z ((76.72602 18.75010 0.00000, 76.7295...  \n",
      "33  POLYGON Z ((74.48454 19.98065 0.00000, 74.4798...  \n",
      "34  POLYGON Z ((75.58641 18.69790 0.00000, 75.5914...  \n"
     ]
    }
   ],
   "source": [
    "print(maha_districts)"
   ]
  },
  {
   "cell_type": "code",
   "execution_count": 34,
   "id": "0b7a32bd",
   "metadata": {},
   "outputs": [
    {
     "data": {
      "text/plain": [
       "geopandas.geodataframe.GeoDataFrame"
      ]
     },
     "execution_count": 34,
     "metadata": {},
     "output_type": "execute_result"
    }
   ],
   "source": [
    "type(maha_districts)"
   ]
  },
  {
   "cell_type": "code",
   "execution_count": 36,
   "id": "18a943a1",
   "metadata": {},
   "outputs": [
    {
     "data": {
      "text/plain": [
       "fid          float64\n",
       "nam           object\n",
       "laa           object\n",
       "geometry    geometry\n",
       "dtype: object"
      ]
     },
     "execution_count": 36,
     "metadata": {},
     "output_type": "execute_result"
    }
   ],
   "source": [
    "maha_districts.dtypes"
   ]
  },
  {
   "cell_type": "code",
   "execution_count": 14,
   "id": "4c019abb",
   "metadata": {},
   "outputs": [
    {
     "data": {
      "text/plain": [
       "<AxesSubplot:>"
      ]
     },
     "execution_count": 14,
     "metadata": {},
     "output_type": "execute_result"
    },
    {
     "data": {
      "image/png": "[encoded data removed]",
      "text/plain": [
       "<Figure size 432x288 with 1 Axes>"
      ]
     },
     "metadata": {
      "needs_background": "light"
     },
     "output_type": "display_data"
    }
   ],
   "source": [
    "maha_districts.plot()"
   ]
  },
  {
   "cell_type": "code",
   "execution_count": 30,
   "id": "f846af51",
   "metadata": {},
   "outputs": [
    {
     "data": {
      "text/html": [
       "<div>\n",
       "<style scoped>\n",
       "    .dataframe tbody tr th:only-of-type {\n",
       "        vertical-align: middle;\n",
       "    }\n",
       "\n",
       "    .dataframe tbody tr th {\n",
       "        vertical-align: top;\n",
       "    }\n",
       "\n",
       "    .dataframe thead th {\n",
       "        text-align: right;\n",
       "    }\n",
       "</style>\n",
       "<table border=\"1\" class=\"dataframe\">\n",
       "  <thead>\n",
       "    <tr style=\"text-align: right;\">\n",
       "      <th></th>\n",
       "      <th>District</th>\n",
       "      <th>Population</th>\n",
       "      <th>Increase</th>\n",
       "      <th>Literacy</th>\n",
       "      <th>Density</th>\n",
       "    </tr>\n",
       "  </thead>\n",
       "  <tbody>\n",
       "    <tr>\n",
       "      <th>0</th>\n",
       "      <td>Thane</td>\n",
       "      <td>11,060,148</td>\n",
       "      <td>36.01</td>\n",
       "      <td>84.53</td>\n",
       "      <td>1157</td>\n",
       "    </tr>\n",
       "    <tr>\n",
       "      <th>1</th>\n",
       "      <td>Pune</td>\n",
       "      <td>9,429,408</td>\n",
       "      <td>30.37</td>\n",
       "      <td>86.15</td>\n",
       "      <td>603</td>\n",
       "    </tr>\n",
       "    <tr>\n",
       "      <th>2</th>\n",
       "      <td>Mumbai Suburban</td>\n",
       "      <td>9,356,962</td>\n",
       "      <td>8.29</td>\n",
       "      <td>89.91</td>\n",
       "      <td>20980</td>\n",
       "    </tr>\n",
       "    <tr>\n",
       "      <th>3</th>\n",
       "      <td>Nashik</td>\n",
       "      <td>6,107,187</td>\n",
       "      <td>22.30</td>\n",
       "      <td>82.31</td>\n",
       "      <td>393</td>\n",
       "    </tr>\n",
       "    <tr>\n",
       "      <th>4</th>\n",
       "      <td>Nagpur</td>\n",
       "      <td>4,653,570</td>\n",
       "      <td>14.40</td>\n",
       "      <td>88.39</td>\n",
       "      <td>470</td>\n",
       "    </tr>\n",
       "  </tbody>\n",
       "</table>\n",
       "</div>"
      ],
      "text/plain": [
       "          District  Population  Increase  Literacy  Density\n",
       "0            Thane  11,060,148     36.01     84.53     1157\n",
       "1             Pune   9,429,408     30.37     86.15      603\n",
       "2  Mumbai Suburban   9,356,962      8.29     89.91    20980\n",
       "3           Nashik   6,107,187     22.30     82.31      393\n",
       "4           Nagpur   4,653,570     14.40     88.39      470"
      ]
     },
     "execution_count": 30,
     "metadata": {},
     "output_type": "execute_result"
    }
   ],
   "source": [
    "file_path = Path('district_data/main_maha_data.csv')\n",
    "main_data_df = pd.read_csv(file_path)\n",
    "main_data_df.head()"
   ]
  },
  {
   "cell_type": "code",
   "execution_count": 31,
   "id": "20ceb941",
   "metadata": {},
   "outputs": [
    {
     "data": {
      "text/html": [
       "<div>\n",
       "<style scoped>\n",
       "    .dataframe tbody tr th:only-of-type {\n",
       "        vertical-align: middle;\n",
       "    }\n",
       "\n",
       "    .dataframe tbody tr th {\n",
       "        vertical-align: top;\n",
       "    }\n",
       "\n",
       "    .dataframe thead th {\n",
       "        text-align: right;\n",
       "    }\n",
       "</style>\n",
       "<table border=\"1\" class=\"dataframe\">\n",
       "  <thead>\n",
       "    <tr style=\"text-align: right;\">\n",
       "      <th></th>\n",
       "      <th>District</th>\n",
       "      <th>Population</th>\n",
       "      <th>Increase</th>\n",
       "      <th>Literacy</th>\n",
       "      <th>Density</th>\n",
       "    </tr>\n",
       "  </thead>\n",
       "  <tbody>\n",
       "    <tr>\n",
       "      <th>0</th>\n",
       "      <td>THANE</td>\n",
       "      <td>11,060,148</td>\n",
       "      <td>36.01</td>\n",
       "      <td>84.53</td>\n",
       "      <td>1157</td>\n",
       "    </tr>\n",
       "    <tr>\n",
       "      <th>1</th>\n",
       "      <td>PUNE</td>\n",
       "      <td>9,429,408</td>\n",
       "      <td>30.37</td>\n",
       "      <td>86.15</td>\n",
       "      <td>603</td>\n",
       "    </tr>\n",
       "    <tr>\n",
       "      <th>2</th>\n",
       "      <td>MUMBAI SUBURBAN</td>\n",
       "      <td>9,356,962</td>\n",
       "      <td>8.29</td>\n",
       "      <td>89.91</td>\n",
       "      <td>20980</td>\n",
       "    </tr>\n",
       "    <tr>\n",
       "      <th>3</th>\n",
       "      <td>NASHIK</td>\n",
       "      <td>6,107,187</td>\n",
       "      <td>22.30</td>\n",
       "      <td>82.31</td>\n",
       "      <td>393</td>\n",
       "    </tr>\n",
       "    <tr>\n",
       "      <th>4</th>\n",
       "      <td>NAGPUR</td>\n",
       "      <td>4,653,570</td>\n",
       "      <td>14.40</td>\n",
       "      <td>88.39</td>\n",
       "      <td>470</td>\n",
       "    </tr>\n",
       "  </tbody>\n",
       "</table>\n",
       "</div>"
      ],
      "text/plain": [
       "          District  Population  Increase  Literacy  Density\n",
       "0            THANE  11,060,148     36.01     84.53     1157\n",
       "1             PUNE   9,429,408     30.37     86.15      603\n",
       "2  MUMBAI SUBURBAN   9,356,962      8.29     89.91    20980\n",
       "3           NASHIK   6,107,187     22.30     82.31      393\n",
       "4           NAGPUR   4,653,570     14.40     88.39      470"
      ]
     },
     "execution_count": 31,
     "metadata": {},
     "output_type": "execute_result"
    }
   ],
   "source": [
    "main_data_df['District'] = main_data_df['District'].str.upper()\n",
    "main_data_df.head()"
   ]
  },
  {
   "cell_type": "code",
   "execution_count": 32,
   "id": "bc6e6805",
   "metadata": {},
   "outputs": [
    {
     "name": "stdout",
     "output_type": "stream",
     "text": [
      "           District  Population  Increase  Literacy  Density\n",
      "0             THANE  11,060,148     36.01     84.53     1157\n",
      "1              PUNE   9,429,408     30.37     86.15      603\n",
      "2   MUMBAI SUBURBAN   9,356,962      8.29     89.91    20980\n",
      "3            NASHIK   6,107,187     22.30     82.31      393\n",
      "4            NAGPUR   4,653,570     14.40     88.39      470\n",
      "5        AHMADNAGAR   4,543,159     12.44     79.05      266\n",
      "6           SOLAPUR   4,317,756     12.16     77.02      290\n",
      "7           JALGAON   4,229,917     14.86     78.20      360\n",
      "8          KOLHAPUR   3,876,001     10.01     81.51      504\n",
      "9        AURANGABAD   3,701,282     27.76     79.02      366\n",
      "10           NANDED   3,361,292     16.86     75.45      319\n",
      "11      MUMBAI CITY   3,085,411     -7.57     89.21    19652\n",
      "12           SATARA   3,003,741      6.93     82.87      287\n",
      "13         AMRAVATI   2,888,445     10.79     87.38      237\n",
      "14           SANGLI   2,822,143      9.24     81.48      329\n",
      "15         YAVATMAL   2,772,348     12.78     82.82      204\n",
      "16           RAYGAD   2,634,200     19.31     83.14      368\n",
      "17          BULDANA   2,586,258     15.85     83.40      268\n",
      "18              BID   2,585,049     19.61     76.99      242\n",
      "19            LATUR   2,454,196     17.97     77.26      343\n",
      "20       CHANDRAPUR   2,204,307      6.43     80.01      193\n",
      "21            DHULE   2,050,862     20.08     72.80      285\n",
      "22            JALNA   1,959,046     21.46     71.52      254\n",
      "23         PARBHANI   1,836,086     20.19     73.34      295\n",
      "24            AKOLA   1,813,906     11.27     88.05      320\n",
      "25        OSMANABAD   1,657,576     11.50     78.44      219\n",
      "26        NANDURBAR   1,648,295     25.66     64.38      277\n",
      "27        RATNAGIRI   1,615,069     -4.82     82.18      197\n",
      "28          GONDIYA   1,322,507     10.14     84.95      253\n",
      "29           WARDHA   1,300,774      5.18     86.99      206\n",
      "30         BHANDARA   1,200,334      5.65     83.76      294\n",
      "31           WASHIM   1,197,160     17.34     83.25      244\n",
      "32          HINGOLI   1,177,345     19.27     78.17      244\n",
      "33      GARHCHIROLI   1,072,942     10.58     74.36       74\n",
      "34       SINDHUDURG     849,651     -2.21     85.56      163\n"
     ]
    }
   ],
   "source": [
    "print(main_data_df)"
   ]
  },
  {
   "cell_type": "code",
   "execution_count": 33,
   "id": "8a1e408a",
   "metadata": {},
   "outputs": [
    {
     "data": {
      "text/plain": [
       "pandas.core.frame.DataFrame"
      ]
     },
     "execution_count": 33,
     "metadata": {},
     "output_type": "execute_result"
    }
   ],
   "source": [
    "type(main_data_df)"
   ]
  },
  {
   "cell_type": "code",
   "execution_count": 35,
   "id": "f7347a6c",
   "metadata": {},
   "outputs": [
    {
     "data": {
      "text/plain": [
       "District       object\n",
       "Population     object\n",
       "Increase      float64\n",
       "Literacy      float64\n",
       "Density         int64\n",
       "dtype: object"
      ]
     },
     "execution_count": 35,
     "metadata": {},
     "output_type": "execute_result"
    }
   ],
   "source": [
    "main_data_df.dtypes"
   ]
  },
  {
   "cell_type": "code",
   "execution_count": null,
   "id": "424baaf2",
   "metadata": {},
   "outputs": [],
   "source": []
  }
 ],
 "metadata": {
  "kernelspec": {
   "display_name": "Python 3 (ipykernel)",
   "language": "python",
   "name": "python3"
  },
  "language_info": {
   "codemirror_mode": {
    "name": "ipython",
    "version": 3
   },
   "file_extension": ".py",
   "mimetype": "text/x-python",
   "name": "python",
   "nbconvert_exporter": "python",
   "pygments_lexer": "ipython3",
   "version": "3.9.7"
  }
 },
 "nbformat": 4,
 "nbformat_minor": 5
}
